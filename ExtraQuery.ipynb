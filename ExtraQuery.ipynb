{
 "cells": [
  {
   "cell_type": "code",
   "execution_count": 1,
   "metadata": {},
   "outputs": [],
   "source": [
    "import pyspark\n",
    "from datetime import datetime\n",
    "from pyspark.sql.types import IntegerType, FloatType\n",
    "from pyspark.sql.functions import udf,lit\n",
    "\n",
    "from pyspark.sql import SQLContext\n",
    "\n",
    "sc = pyspark.SparkContext.getOrCreate()\n",
    "sqlContext = SQLContext(sc)"
   ]
  },
  {
   "cell_type": "code",
   "execution_count": 13,
   "metadata": {},
   "outputs": [],
   "source": [
    "d = sqlContext.read.format('com.databricks.spark.csv').options(header='true', inferschema='true')\\\n",
    "        .load(\"BDdata/1994.csv\")\n",
    "for i in range(1995,2009):\n",
    "    d = d.union(sqlContext.read.format('com.databricks.spark.csv').options(header='true', inferschema='true')\\\n",
    "            .load('BDdata/'+str(i)+'.csv'))"
   ]
  },
  {
   "cell_type": "code",
   "execution_count": 3,
   "metadata": {},
   "outputs": [
    {
     "name": "stdout",
     "output_type": "stream",
     "text": [
      "+----+-----+----------+---------+-------+----------+-------+----------+-------------+---------+-------+-----------------+--------------+-------+--------+--------+------+----+--------+------+-------+---------+----------------+--------+------------+------------+--------+-------------+-----------------+\n",
      "|Year|Month|DayofMonth|DayOfWeek|DepTime|CRSDepTime|ArrTime|CRSArrTime|UniqueCarrier|FlightNum|TailNum|ActualElapsedTime|CRSElapsedTime|AirTime|ArrDelay|DepDelay|Origin|Dest|Distance|TaxiIn|TaxiOut|Cancelled|CancellationCode|Diverted|CarrierDelay|WeatherDelay|NASDelay|SecurityDelay|LateAircraftDelay|\n",
      "+----+-----+----------+---------+-------+----------+-------+----------+-------------+---------+-------+-----------------+--------------+-------+--------+--------+------+----+--------+------+-------+---------+----------------+--------+------------+------------+--------+-------------+-----------------+\n",
      "|1994|    1|         7|        5|    858|       900|    954|      1003|           US|      227|     NA|               56|            63|     NA|      -9|      -2|   CLT| ORF|     290|    NA|     NA|        0|              NA|       0|          NA|          NA|      NA|           NA|               NA|\n",
      "|1994|    1|         8|        6|    859|       900|    952|      1003|           US|      227|     NA|               53|            63|     NA|     -11|      -1|   CLT| ORF|     290|    NA|     NA|        0|              NA|       0|          NA|          NA|      NA|           NA|               NA|\n",
      "|1994|    1|        10|        1|    935|       900|   1023|      1003|           US|      227|     NA|               48|            63|     NA|      20|      35|   CLT| ORF|     290|    NA|     NA|        0|              NA|       0|          NA|          NA|      NA|           NA|               NA|\n",
      "|1994|    1|        11|        2|    903|       900|   1131|      1003|           US|      227|     NA|              148|            63|     NA|      88|       3|   CLT| ORF|     290|    NA|     NA|        0|              NA|       0|          NA|          NA|      NA|           NA|               NA|\n",
      "|1994|    1|        12|        3|    933|       900|   1024|      1003|           US|      227|     NA|               51|            63|     NA|      21|      33|   CLT| ORF|     290|    NA|     NA|        0|              NA|       0|          NA|          NA|      NA|           NA|               NA|\n",
      "|1994|    1|        13|        4|     NA|       900|     NA|      1003|           US|      227|     NA|               NA|            63|     NA|      NA|      NA|   CLT| ORF|     290|    NA|     NA|        1|              NA|       0|          NA|          NA|      NA|           NA|               NA|\n",
      "|1994|    1|        14|        5|    903|       900|   1005|      1003|           US|      227|     NA|               62|            63|     NA|       2|       3|   CLT| ORF|     290|    NA|     NA|        0|              NA|       0|          NA|          NA|      NA|           NA|               NA|\n",
      "|1994|    1|        15|        6|    859|       900|   1004|      1003|           US|      227|     NA|               65|            63|     NA|       1|      -1|   CLT| ORF|     290|    NA|     NA|        0|              NA|       0|          NA|          NA|      NA|           NA|               NA|\n",
      "|1994|    1|        17|        1|    859|       900|    955|      1003|           US|      227|     NA|               56|            63|     NA|      -8|      -1|   CLT| ORF|     290|    NA|     NA|        0|              NA|       0|          NA|          NA|      NA|           NA|               NA|\n",
      "|1994|    1|        18|        2|    904|       900|    959|      1003|           US|      227|     NA|               55|            63|     NA|      -4|       4|   CLT| ORF|     290|    NA|     NA|        0|              NA|       0|          NA|          NA|      NA|           NA|               NA|\n",
      "|1994|    1|        19|        3|    858|       900|    947|      1003|           US|      227|     NA|               49|            63|     NA|     -16|      -2|   CLT| ORF|     290|    NA|     NA|        0|              NA|       0|          NA|          NA|      NA|           NA|               NA|\n",
      "|1994|    1|        20|        4|    923|       900|   1015|      1003|           US|      227|     NA|               52|            63|     NA|      12|      23|   CLT| ORF|     290|    NA|     NA|        0|              NA|       0|          NA|          NA|      NA|           NA|               NA|\n",
      "|1994|    1|        21|        5|     NA|       900|     NA|      1003|           US|      227|     NA|               NA|            63|     NA|      NA|      NA|   CLT| ORF|     290|    NA|     NA|        1|              NA|       0|          NA|          NA|      NA|           NA|               NA|\n",
      "|1994|    1|        22|        6|    859|       900|   1001|      1003|           US|      227|     NA|               62|            63|     NA|      -2|      -1|   CLT| ORF|     290|    NA|     NA|        0|              NA|       0|          NA|          NA|      NA|           NA|               NA|\n",
      "|1994|    1|        24|        1|    901|       900|   1006|      1003|           US|      227|     NA|               65|            63|     NA|       3|       1|   CLT| ORF|     290|    NA|     NA|        0|              NA|       0|          NA|          NA|      NA|           NA|               NA|\n",
      "|1994|    1|        25|        2|    859|       900|    952|      1003|           US|      227|     NA|               53|            63|     NA|     -11|      -1|   CLT| ORF|     290|    NA|     NA|        0|              NA|       0|          NA|          NA|      NA|           NA|               NA|\n",
      "|1994|    1|        27|        4|    910|       900|   1008|      1003|           US|      227|     NA|               58|            63|     NA|       5|      10|   CLT| ORF|     290|    NA|     NA|        0|              NA|       0|          NA|          NA|      NA|           NA|               NA|\n",
      "|1994|    1|        28|        5|    858|       900|   1020|      1003|           US|      227|     NA|               82|            63|     NA|      17|      -2|   CLT| ORF|     290|    NA|     NA|        0|              NA|       0|          NA|          NA|      NA|           NA|               NA|\n",
      "|1994|    1|        29|        6|    859|       900|    953|      1003|           US|      227|     NA|               54|            63|     NA|     -10|      -1|   CLT| ORF|     290|    NA|     NA|        0|              NA|       0|          NA|          NA|      NA|           NA|               NA|\n",
      "|1994|    1|        31|        1|    904|       900|   1006|      1003|           US|      227|     NA|               62|            63|     NA|       3|       4|   CLT| ORF|     290|    NA|     NA|        0|              NA|       0|          NA|          NA|      NA|           NA|               NA|\n",
      "+----+-----+----------+---------+-------+----------+-------+----------+-------------+---------+-------+-----------------+--------------+-------+--------+--------+------+----+--------+------+-------+---------+----------------+--------+------------+------------+--------+-------------+-----------------+\n",
      "only showing top 20 rows\n",
      "\n"
     ]
    }
   ],
   "source": [
    "d.show()"
   ]
  },
  {
   "cell_type": "code",
   "execution_count": 50,
   "metadata": {},
   "outputs": [
    {
     "name": "stdout",
     "output_type": "stream",
     "text": [
      "+----+------+-----------------+----+----+----------------+\n",
      "|Year|Origin|sum(sum(TaxiOut))|Year|Dest|sum(sum(TaxiIn))|\n",
      "+----+------+-----------------+----+----+----------------+\n",
      "|1995|   FCA|           9369.0|1995| FCA|          4209.0|\n",
      "|1998|   EWR|        3299816.0|1998| EWR|        995037.0|\n",
      "|1998|   JNU|          50459.0|1998| JNU|         13645.0|\n",
      "|1999|   FAT|           3586.0|1999| FAT|          1700.0|\n",
      "|2000|   LIT|         129359.0|2000| LIT|         54305.0|\n",
      "|2000|   MSP|        2779914.0|2000| MSP|        950838.0|\n",
      "|2001|   MLU|          16237.0|2001| MLU|          7348.0|\n",
      "|2002|   MBS|          20306.0|2002| MBS|          8328.0|\n",
      "|2004|   ADQ|           3744.0|2004| ADQ|          1878.0|\n",
      "|2004|   PHL|        2779238.0|2004| PHL|        919327.0|\n",
      "|2005|   BZN|          63313.0|2005| BZN|         23264.0|\n",
      "|2005|   CEC|           7894.0|2005| CEC|          2924.0|\n",
      "|2005|   FSM|          19010.0|2005| FSM|         10219.0|\n",
      "|2005|   PSE|           2238.0|2005| PSE|           781.0|\n",
      "|2006|   CPR|          31976.0|2006| CPR|         11771.0|\n",
      "|2006|   SIT|          15018.0|2006| SIT|          5851.0|\n",
      "|2007|   DAB|          46768.0|2007| DAB|         13841.0|\n",
      "|2008|   ACK|           8154.0|2008| ACK|          2485.0|\n",
      "|2008|   DAB|          38618.0|2008| DAB|         10956.0|\n",
      "|1996|   BFL|           2899.0|1996| BFL|          2287.0|\n",
      "+----+------+-----------------+----+----+----------------+\n",
      "only showing top 20 rows\n",
      "\n"
     ]
    }
   ],
   "source": [
    "from pyspark.sql.functions import col\n",
    "\n",
    "d2 = d.where(d1.TaxiIn != \"NA\").where(d1.TaxiOut != \"NA\").groupBy(\"Year\",\"Origin\",\"Dest\").agg({\"TaxiIn\":\"sum\",\"TaxiOut\":\"sum\"}).orderBy(\"Year\",\"Origin\",\"Dest\")\n",
    "dd2 = d2.groupBy(\"Year\",\"Origin\").agg({\"sum(TaxiOut)\":\"sum\"}).select(\"Year\",\"Origin\",\"sum(sum(TaxiOut))\")\n",
    "dd3 = d2.groupBy(\"Year\",\"Dest\").agg({\"sum(TaxiIn)\":\"sum\"}).select(\"Year\",\"Dest\",\"sum(sum(TaxiIn))\")\n",
    "#d2.coalesce(1).write.csv(\"./extraQuery/taxi\",header=True)\n",
    "dd4 = dd2.alias(\"a\").join(dd3.alias(\"b\"), on = [col(\"a.Origin\") == col(\"b.Dest\"), col(\"a.Year\") == col(\"b.Year\")])\n",
    "dd4.show()"
   ]
  },
  {
   "cell_type": "code",
   "execution_count": 52,
   "metadata": {},
   "outputs": [],
   "source": [
    "dd4.select(\"a.Year\",\"Origin\",\"sum(sum(TaxiOut))\",\"sum(sum(TaxiIn))\").withColumnRenamed(\"sum(sum(TaxiIn))\",\"TaxiIn\").withColumnRenamed(\"sum(sum(TaxiOut))\",\"TaxiOut\")\\\n",
    "    .orderBy(\"Year\",\"Origin\").coalesce(1).write.csv(\"./extraQuery/taxi\",header=True)"
   ]
  },
  {
   "cell_type": "code",
   "execution_count": 38,
   "metadata": {},
   "outputs": [],
   "source": [
    "d3 = d.groupBy(\"Year\",\"Origin\",\"Dest\").agg({\"*\":\"count\"}).orderBy(\"Year\",\"Origin\",\"Dest\")\n",
    "d3.coalesce(1).write.csv(\"./extraQuery/from_to\",header=True)"
   ]
  }
 ],
 "metadata": {
  "kernelspec": {
   "display_name": "Python 3",
   "language": "python",
   "name": "python3"
  },
  "language_info": {
   "codemirror_mode": {
    "name": "ipython",
    "version": 3
   },
   "file_extension": ".py",
   "mimetype": "text/x-python",
   "name": "python",
   "nbconvert_exporter": "python",
   "pygments_lexer": "ipython3",
   "version": "3.6.3"
  }
 },
 "nbformat": 4,
 "nbformat_minor": 2
}
