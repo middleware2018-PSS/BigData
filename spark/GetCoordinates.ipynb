{
 "cells": [
  {
   "cell_type": "code",
   "execution_count": 1,
   "metadata": {},
   "outputs": [],
   "source": [
    "import pyspark\n",
    "from datetime import datetime\n",
    "from pyspark.sql.types import IntegerType, FloatType\n",
    "from pyspark.sql.functions import udf,lit\n",
    "\n",
    "from pyspark.sql import SQLContext\n",
    "sc = pyspark.SparkContext.getOrCreate()\n",
    "sqlContext = SQLContext(sc)"
   ]
  },
  {
   "cell_type": "code",
   "execution_count": 2,
   "metadata": {},
   "outputs": [
    {
     "name": "stdout",
     "output_type": "stream",
     "text": [
      "+---+---+---+---+---+---+---+---+---+---+----+----+----+----+\n",
      "|_c0|_c1|_c2|_c3|_c4|_c5|_c6|_c7|_c8|_c9|_c10|_c11|_c12|_c13|\n",
      "+---+---+---+---+---+---+---+---+---+---+----+----+----+----+\n",
      "+---+---+---+---+---+---+---+---+---+---+----+----+----+----+\n",
      "\n"
     ]
    }
   ],
   "source": [
    "d = sqlContext.read.format('com.databricks.spark.csv').options(inferschema='true')\\\n",
    "    .load('../BDdata/airports.csv')\n",
    "d.where(d._c4 == \"ILE\").show()"
   ]
  },
  {
   "cell_type": "code",
   "execution_count": 3,
   "metadata": {},
   "outputs": [
    {
     "name": "stdout",
     "output_type": "stream",
     "text": [
      "+---+---+---+\n",
      "|_c4|_c6|_c7|\n",
      "+---+---+---+\n",
      "+---+---+---+\n",
      "\n"
     ]
    }
   ],
   "source": [
    "d1 = d.select(\"_c4\",\"_c6\",\"_c7\")\n",
    "d1.where(d._c4 == \"ILE\").show()"
   ]
  },
  {
   "cell_type": "code",
   "execution_count": 4,
   "metadata": {},
   "outputs": [
    {
     "name": "stdout",
     "output_type": "stream",
     "text": [
      "+----+----+---------------+--------------+-------+-------+\n",
      "|Year|Week|OutgoingPenalty|IngoingPenalty|Airport|Penalty|\n",
      "+----+----+---------------+--------------+-------+-------+\n",
      "|2000|  35|            0.0|           0.0|    STX|    0.0|\n",
      "|1994|   3|            0.0|           0.0|    GJT|    0.0|\n",
      "|2008|  16|            0.0|           0.0|    PSE|    0.0|\n",
      "|2008|  45|            0.0|           0.0|    GTR|    0.0|\n",
      "|1996|  22|            0.0|           0.0|    KOA|    0.0|\n",
      "|1999|   2|            0.0|           0.0|    KOA|    0.0|\n",
      "|1994|   8|            0.0|           0.0|    BET|    0.0|\n",
      "|2002|   3|            0.0|           0.0|    CAK|    0.0|\n",
      "|1998|  37|            0.0|           0.0|    LIH|    0.0|\n",
      "|1997|   5|            0.0|           0.0|    GUC|    0.0|\n",
      "|2002|  14|            0.0|           0.0|    DRO|    0.0|\n",
      "|2003|  40|            0.0|           0.0|    LIH|    0.0|\n",
      "|2003|  35|            0.0|           0.0|    MOT|    0.0|\n",
      "|2003|  31|            0.0|           0.0|    OXR|    0.0|\n",
      "|2004|  49|            0.0|           0.0|    HVN|    0.0|\n",
      "|1994|  42|            0.0|           0.0|    EVV|    0.0|\n",
      "|2008|  45|            0.0|           0.0|    TYR|    0.0|\n",
      "|1995|  20|            0.0|           0.0|    KOA|    0.0|\n",
      "|2007|  40|            0.0|           0.0|    LCH|    0.0|\n",
      "|2007|  48|            0.0|           0.0|    ADK|    0.0|\n",
      "+----+----+---------------+--------------+-------+-------+\n",
      "only showing top 20 rows\n",
      "\n"
     ]
    }
   ],
   "source": [
    "res = sqlContext.read.format('com.databricks.spark.csv').options(inferschema='true',header='true')\\\n",
    "    .load('./results/query4.csv/part-00000-b110f8a4-bc28-401c-a889-da5ce0c4b6b0-c000.csv')\n",
    "res.show()"
   ]
  },
  {
   "cell_type": "code",
   "execution_count": 6,
   "metadata": {},
   "outputs": [
    {
     "name": "stdout",
     "output_type": "stream",
     "text": [
      "+----+----+---------------+--------------+-------+-------+------------------+-------------------+\n",
      "|Year|Week|OutgoingPenalty|IngoingPenalty|Airport|Penalty|               lat|                lon|\n",
      "+----+----+---------------+--------------+-------+-------+------------------+-------------------+\n",
      "|1994|   3|            0.0|           0.0|    GJT|    0.0|     39.1223983765|     -108.527000427|\n",
      "|2008|  45|            0.0|           0.0|    GTR|    0.0|33.450298309299995| -88.59140014649999|\n",
      "|1996|  22|            0.0|           0.0|    KOA|    0.0|19.738800048828125|-156.04600524902344|\n",
      "|1999|   2|            0.0|           0.0|    KOA|    0.0|19.738800048828125|-156.04600524902344|\n",
      "|1994|   8|            0.0|           0.0|    BET|    0.0|       60.77980042|       -161.8379974|\n",
      "|2002|   3|            0.0|           0.0|    CAK|    0.0|40.916099548339844| -81.44219970703125|\n",
      "|1998|  37|            0.0|           0.0|    LIH|    0.0| 21.97599983215332|-159.33900451660156|\n",
      "|1997|   5|            0.0|           0.0|    GUC|    0.0|       38.53390121|       -106.9329987|\n",
      "|2002|  14|            0.0|           0.0|    DRO|    0.0|     37.1515007019|-107.75399780299999|\n",
      "|2003|  40|            0.0|           0.0|    LIH|    0.0| 21.97599983215332|-159.33900451660156|\n",
      "|2003|  35|            0.0|           0.0|    MOT|    0.0|  48.2593994140625|-101.27999877929688|\n",
      "|2003|  31|            0.0|           0.0|    OXR|    0.0|   34.200801849365|-119.20700073241998|\n",
      "|2004|  49|            0.0|           0.0|    HVN|    0.0|       41.26369858|       -72.88680267|\n",
      "|1994|  42|            0.0|           0.0|    EVV|    0.0|     38.0369987488| -87.53240203860001|\n",
      "|2008|  45|            0.0|           0.0|    TYR|    0.0| 32.35409927368164| -95.40239715576172|\n",
      "|1995|  20|            0.0|           0.0|    KOA|    0.0|19.738800048828125|-156.04600524902344|\n",
      "|2007|  40|            0.0|           0.0|    LCH|    0.0| 30.12610054016113| -93.22329711914062|\n",
      "|2007|  48|            0.0|           0.0|    ADK|    0.0| 51.87799835205078|   -176.64599609375|\n",
      "|2005|  52|            0.0|           0.0|    DRO|    0.0|     37.1515007019|-107.75399780299999|\n",
      "|2007|   2|            0.0|           0.0|    FLO|    0.0| 34.18539810180664|  -79.7238998413086|\n",
      "+----+----+---------------+--------------+-------+-------+------------------+-------------------+\n",
      "only showing top 20 rows\n",
      "\n"
     ]
    }
   ],
   "source": [
    "joined = res.join(d1, on=[res.Airport == d1._c4]).drop(\"_c4\").withColumnRenamed(\"_c6\",\"lat\").withColumnRenamed(\"_c7\",\"lon\")\n",
    "joined.show()"
   ]
  },
  {
   "cell_type": "code",
   "execution_count": 7,
   "metadata": {},
   "outputs": [
    {
     "data": {
      "text/plain": [
       "(172882, 169951)"
      ]
     },
     "execution_count": 7,
     "metadata": {},
     "output_type": "execute_result"
    }
   ],
   "source": [
    "res.count() , joined.count()"
   ]
  },
  {
   "cell_type": "code",
   "execution_count": 8,
   "metadata": {},
   "outputs": [],
   "source": [
    "r = res.select(\"Airport\").distinct().toLocalIterator()\n",
    "j = joined.select(\"Airport\").distinct().toLocalIterator()\n"
   ]
  },
  {
   "cell_type": "code",
   "execution_count": 9,
   "metadata": {},
   "outputs": [
    {
     "data": {
      "text/plain": [
       "{Row(Airport='BQN'),\n",
       " Row(Airport='ILE'),\n",
       " Row(Airport='MAZ'),\n",
       " Row(Airport='PSE'),\n",
       " Row(Airport='SJU'),\n",
       " Row(Airport='STT'),\n",
       " Row(Airport='STX')}"
      ]
     },
     "execution_count": 9,
     "metadata": {},
     "output_type": "execute_result"
    }
   ],
   "source": [
    "set(r).difference(set(j))"
   ]
  },
  {
   "cell_type": "code",
   "execution_count": 10,
   "metadata": {},
   "outputs": [],
   "source": [
    "joined.coalesce(1).write.csv(\"results/query4.csv/res_with_lat_lon.csv\",header=True)"
   ]
  }
 ],
 "metadata": {
  "kernelspec": {
   "display_name": "Python 3",
   "language": "python",
   "name": "python3"
  },
  "language_info": {
   "codemirror_mode": {
    "name": "ipython",
    "version": 3
   },
   "file_extension": ".py",
   "mimetype": "text/x-python",
   "name": "python",
   "nbconvert_exporter": "python",
   "pygments_lexer": "ipython3",
   "version": "3.6.6"
  }
 },
 "nbformat": 4,
 "nbformat_minor": 2
}
