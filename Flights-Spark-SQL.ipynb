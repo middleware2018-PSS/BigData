{
 "cells": [
  {
   "cell_type": "code",
   "execution_count": 1,
   "metadata": {},
   "outputs": [],
   "source": [
    "import pyspark\n",
    "from datetime import datetime\n",
    "from pyspark.sql.types import IntegerType, FloatType\n",
    "from pyspark.sql.functions import udf,lit\n",
    "\n",
    "from pyspark.sql import SQLContext\n",
    "sc = pyspark.SparkContext.getOrCreate()\n",
    "sqlContext = SQLContext(sc)"
   ]
  },
  {
   "cell_type": "markdown",
   "metadata": {},
   "source": [
    "# Queries:\n",
    "1. the percentage of canceled flights per day, throughout the entire data set\n",
    "2. weekly percentages of delays that are due to weather, throughout the entire data set \n",
    "3. the percentage of flights belonging to a given \"distance group\" that were able to halve their departure delays by the time they arrived at their destinations. Distance groups assort flights by their total distance in miles. Flights with distances that are less than 200 miles belong in group 1, flights with distances that are between 200 and 399 miles belong in group 2, flights with distances that are between 400 and 599 miles belong in group 3, and so on. The last group contains flights whose distances are between 2400 and 2599 miles.\n",
    "4. a weekly \"penalty\" score for each airport that depends on both the its incoming and outgoing flights. The score adds 0.5 for each incoming flight that is more than 15 minutes late, and 1 for each outgoing flight that is more than 15 minutes late.\n",
    "\n",
    "\n",
    "## 1. \"The percentage of canceled flights per day, throughout the entire data set\"\n"
   ]
  },
  {
   "cell_type": "code",
   "execution_count": 47,
   "metadata": {},
   "outputs": [],
   "source": [
    "def getCancelledPercentage(file):\n",
    "    d = sqlContext.read.format('com.databricks.spark.csv').options(header='true', inferschema='true')\\\n",
    "        .load(file)\n",
    "    \n",
    "    d_ymdc= d.select(d[\"Year\"],d[\"Month\"],d[\"DayofMonth\"],d[\"Cancelled\"])\n",
    "    \n",
    "    d_cancelled = d_ymdc.filter(d[\"Cancelled\"]==1) \\\n",
    "        .groupBy(d[\"Year\"],d[\"Month\"],d[\"DayofMonth\"]) \\\n",
    "        .count().withColumnRenamed(\"count\",\"cancelled\")\n",
    "    \n",
    "    d_total = d_ymdc \\\n",
    "        .groupBy(d[\"Year\"],d[\"Month\"],d[\"DayofMonth\"]) \\\n",
    "        .count().withColumnRenamed(\"count\",\"total\")\n",
    "    \n",
    "    res = d_cancelled.join(d_total, on=[d_cancelled.Year == d_total.Year, d_cancelled.Month == d_total.Month,d_cancelled.DayofMonth == d_total.DayofMonth]) \\\n",
    "        .select(d_cancelled.Year,d_cancelled.Month,d_cancelled.DayofMonth,d_cancelled[\"cancelled\"],d_total[\"total\"])\n",
    "    \n",
    "    return res.withColumn(\"percentageCancelled\", (res.cancelled/res.total))\\\n",
    "        .drop(\"cancelled\",\"total\")\\\n",
    "        .orderBy(\"Year\",\"Month\",\"DayofMonth\")\n",
    "        \n",
    "\n",
    "res1=[getCancelledPercentage(\"BDdata/\"+str(i)+\".csv\") for i in range(1994,2009)]\n"
   ]
  },
  {
   "cell_type": "code",
   "execution_count": 48,
   "metadata": {},
   "outputs": [],
   "source": [
    "def saveUnited(filename, res1):\n",
    "    res=res1[0]\n",
    "    for el in res1[1:]:\n",
    "        res=res.union(el)\n",
    "    res.coalesce(1).write.csv(filename,header=True)\n",
    "\n",
    "saveUnited(\"./query1.csv\",res1)"
   ]
  },
  {
   "cell_type": "code",
   "execution_count": 104,
   "metadata": {
    "collapsed": true
   },
   "outputs": [
    {
     "name": "stdout",
     "output_type": "stream",
     "text": [
      "+----+-----+----------+--------------------+\n",
      "|Year|Month|DayofMonth| percentageCancelled|\n",
      "+----+-----+----------+--------------------+\n",
      "|1995|    1|         1|0.010582010582010581|\n",
      "|1995|    1|         2|0.010852713178294573|\n",
      "|1995|    1|         3|0.017752621084453593|\n",
      "|1995|    1|         4| 0.02272874023374443|\n",
      "|1995|    1|         5| 0.02155618850336613|\n",
      "|1995|    1|         6| 0.06094487171201448|\n",
      "|1995|    1|         7|  0.0257183908045977|\n",
      "|1995|    1|         8| 0.01808698008399946|\n",
      "|1995|    1|         9|  0.0530588388102351|\n",
      "|1995|    1|        10| 0.04393730736441734|\n",
      "|1995|    1|        11| 0.12992796332678455|\n",
      "|1995|    1|        12| 0.09618030531350324|\n",
      "|1995|    1|        13|  0.0287468966418398|\n",
      "|1995|    1|        14|0.027137140778464897|\n",
      "|1995|    1|        15|0.019543303846945075|\n",
      "|1995|    1|        16|0.020290613954706112|\n",
      "|1995|    1|        17|0.016901408450704224|\n",
      "|1995|    1|        18|0.031135291033036184|\n",
      "|1995|    1|        19| 0.04605004585353072|\n",
      "|1995|    1|        20|0.028532164125384465|\n",
      "+----+-----+----------+--------------------+\n",
      "only showing top 20 rows\n",
      "\n"
     ]
    }
   ],
   "source": [
    "results[1].show()"
   ]
  },
  {
   "cell_type": "markdown",
   "metadata": {},
   "source": [
    "## Extra query: Weekly percentages of flights cancelled that are due to weather, throughout the entire data set "
   ]
  },
  {
   "cell_type": "code",
   "execution_count": null,
   "metadata": {},
   "outputs": [],
   "source": [
    "\n",
    "def getWeatherPercentage(year, newYearFirstWeek=None):\n",
    "    d = sqlContext.read.format('com.databricks.spark.csv').options(header='true', inferschema='true')\\\n",
    "        .load('BDdata/'+year+'.csv')\n",
    "    dr = d.filter(d[\"Cancelled\"]=='1')\\\n",
    "        .select(d[\"Year\"],d[\"Month\"],d[\"DayofMonth\"],d[\"CancellationCode\"])\n",
    "\n",
    "    d_cancelled_weather = dr.filter(d[\"CancellationCode\"]=='B')\n",
    "\n",
    "    d2 = dr.groupBy(d[\"Year\"],d[\"Month\"],d[\"DayofMonth\"])\\\n",
    "        .count()\\\n",
    "        .withColumnRenamed(\"count\",\"cancelled\")\n",
    "    \n",
    "    d3 = d_cancelled_weather.groupBy(d[\"Year\"],d[\"Month\"],d[\"DayofMonth\"])\\\n",
    "        .count()\\\n",
    "        .withColumnRenamed(\"count\",\"weather\")\n",
    "    \n",
    "    d4 = d2.join(d3, on=[d2[\"Year\"]==d3[\"Year\"],d2[\"Month\"]==d3[\"Month\"],d2[\"DayofMonth\"]==d3[\"DayofMonth\"]])\\\n",
    "        .select(d2[\"Year\"],d2[\"Month\"],d2[\"DayofMonth\"],d2[\"cancelled\"],d3[\"weather\"])\\\n",
    "        .orderBy(d2[\"Year\"],d2[\"Month\"],d2[\"DayofMonth\"])\n",
    "        \n",
    "    d5 = d4.withColumn(\"week\", week(d4[\"Year\"],d4[\"Month\"],d4[\"DayofMonth\"]))\n",
    "    \n",
    "    newYearFirstWeek1 = d5.filter(d5[\"week\"]==1).filter(d5[\"Month\"]==\"12\")\n",
    "    if newYearFirstWeek is not None:\n",
    "        d5 = d5.union(newYearFirstWeek)\n",
    "    d5a = d5.filter((d5[\"week\"]!=1) | (d5[\"Month\"]!=\"12\")).groupBy(\"Year\",\"week\")\\\n",
    "        .agg({\"cancelled\":\"sum\",\"weather\":\"sum\"})\n",
    "    d6 = d5a.withColumn(\"percentage\",d5a[\"sum(weather)\"]/d5a[\"sum(cancelled)\"])\\\n",
    "        .select(d5a[\"Year\"],d5a[\"week\"],\"percentage\")\\\n",
    "        .sort(\"Year\",\"week\")\n",
    "    return (d6, newYearFirstWeek1)"
   ]
  },
  {
   "cell_type": "code",
   "execution_count": 37,
   "metadata": {
    "collapsed": true
   },
   "outputs": [
    {
     "name": "stdout",
     "output_type": "stream",
     "text": [
      "+----+-----+----------+-------+\n",
      "|Year|Month|DayofMonth|weather|\n",
      "+----+-----+----------+-------+\n",
      "+----+-----+----------+-------+\n",
      "\n",
      "+----+-----+----------+-------+\n",
      "|Year|Month|DayofMonth|weather|\n",
      "+----+-----+----------+-------+\n",
      "+----+-----+----------+-------+\n",
      "\n",
      "+----+-----+----------+-------+\n",
      "|Year|Month|DayofMonth|weather|\n",
      "+----+-----+----------+-------+\n",
      "+----+-----+----------+-------+\n",
      "\n",
      "+----+-----+----------+-------+\n",
      "|Year|Month|DayofMonth|weather|\n",
      "+----+-----+----------+-------+\n",
      "+----+-----+----------+-------+\n",
      "\n",
      "+----+-----+----------+-------+\n",
      "|Year|Month|DayofMonth|weather|\n",
      "+----+-----+----------+-------+\n",
      "+----+-----+----------+-------+\n",
      "\n",
      "+----+-----+----------+-------+\n",
      "|Year|Month|DayofMonth|weather|\n",
      "+----+-----+----------+-------+\n",
      "+----+-----+----------+-------+\n",
      "\n",
      "+----+-----+----------+-------+\n",
      "|Year|Month|DayofMonth|weather|\n",
      "+----+-----+----------+-------+\n",
      "+----+-----+----------+-------+\n",
      "\n",
      "+----+-----+----------+-------+\n",
      "|Year|Month|DayofMonth|weather|\n",
      "+----+-----+----------+-------+\n",
      "+----+-----+----------+-------+\n",
      "\n",
      "+----+-----+----------+-------+\n",
      "|Year|Month|DayofMonth|weather|\n",
      "+----+-----+----------+-------+\n",
      "+----+-----+----------+-------+\n",
      "\n",
      "+----+-----+----------+-------+\n",
      "|Year|Month|DayofMonth|weather|\n",
      "+----+-----+----------+-------+\n",
      "|2003|    6|         1|      8|\n",
      "|2003|    6|         2|      4|\n",
      "|2003|    6|         3|     15|\n",
      "|2003|    6|         4|     23|\n",
      "|2003|    6|         5|     46|\n",
      "|2003|    6|         6|      5|\n",
      "|2003|    6|         7|      4|\n",
      "|2003|    6|         8|     24|\n",
      "|2003|    6|         9|      8|\n",
      "|2003|    6|        10|      7|\n",
      "|2003|    6|        11|     20|\n",
      "|2003|    6|        12|    191|\n",
      "|2003|    6|        13|    175|\n",
      "|2003|    6|        14|     44|\n",
      "|2003|    6|        15|      5|\n",
      "|2003|    6|        16|     44|\n",
      "|2003|    6|        17|      8|\n",
      "|2003|    6|        18|     38|\n",
      "|2003|    6|        19|     13|\n",
      "|2003|    6|        20|     11|\n",
      "+----+-----+----------+-------+\n",
      "only showing top 20 rows\n",
      "\n",
      "+----+-----+----------+-------+\n",
      "|Year|Month|DayofMonth|weather|\n",
      "+----+-----+----------+-------+\n",
      "|2004|    1|         1|     46|\n",
      "|2004|    1|         2|    178|\n",
      "|2004|    1|         3|     90|\n",
      "|2004|    1|         4|    686|\n",
      "|2004|    1|         5|    158|\n",
      "|2004|    1|         6|    404|\n",
      "|2004|    1|         7|    448|\n",
      "|2004|    1|         8|    387|\n",
      "|2004|    1|         9|    276|\n",
      "|2004|    1|        10|     57|\n",
      "|2004|    1|        11|    147|\n",
      "|2004|    1|        12|     97|\n",
      "|2004|    1|        13|     33|\n",
      "|2004|    1|        14|    287|\n",
      "|2004|    1|        15|    262|\n",
      "|2004|    1|        16|    113|\n",
      "|2004|    1|        17|    291|\n",
      "|2004|    1|        18|    113|\n",
      "|2004|    1|        19|     18|\n",
      "|2004|    1|        20|     13|\n",
      "+----+-----+----------+-------+\n",
      "only showing top 20 rows\n",
      "\n",
      "+----+-----+----------+-------+\n",
      "|Year|Month|DayofMonth|weather|\n",
      "+----+-----+----------+-------+\n",
      "|2005|    1|         1|     77|\n",
      "|2005|    1|         2|     44|\n",
      "|2005|    1|         3|     61|\n",
      "|2005|    1|         4|    372|\n",
      "|2005|    1|         5|    958|\n",
      "|2005|    1|         6|    523|\n",
      "|2005|    1|         7|     98|\n",
      "|2005|    1|         8|    187|\n",
      "|2005|    1|         9|    121|\n",
      "|2005|    1|        10|    189|\n",
      "|2005|    1|        11|    176|\n",
      "|2005|    1|        12|    436|\n",
      "|2005|    1|        13|    720|\n",
      "|2005|    1|        14|     71|\n",
      "|2005|    1|        15|    109|\n",
      "|2005|    1|        16|     67|\n",
      "|2005|    1|        17|    117|\n",
      "|2005|    1|        18|     78|\n",
      "|2005|    1|        19|    175|\n",
      "|2005|    1|        20|    504|\n",
      "+----+-----+----------+-------+\n",
      "only showing top 20 rows\n",
      "\n",
      "+----+-----+----------+-------+\n",
      "|Year|Month|DayofMonth|weather|\n",
      "+----+-----+----------+-------+\n",
      "|2006|    1|         1|     63|\n",
      "|2006|    1|         2|    140|\n",
      "|2006|    1|         3|    225|\n",
      "|2006|    1|         4|     63|\n",
      "|2006|    1|         5|     14|\n",
      "|2006|    1|         6|     49|\n",
      "|2006|    1|         7|     28|\n",
      "|2006|    1|         8|     22|\n",
      "|2006|    1|         9|     17|\n",
      "|2006|    1|        10|     21|\n",
      "|2006|    1|        11|     91|\n",
      "|2006|    1|        12|    157|\n",
      "|2006|    1|        13|    352|\n",
      "|2006|    1|        14|     38|\n",
      "|2006|    1|        15|     74|\n",
      "|2006|    1|        16|      6|\n",
      "|2006|    1|        17|     45|\n",
      "|2006|    1|        18|    299|\n",
      "|2006|    1|        19|     31|\n",
      "|2006|    1|        20|    254|\n",
      "+----+-----+----------+-------+\n",
      "only showing top 20 rows\n",
      "\n",
      "+----+-----+----------+-------+\n",
      "|Year|Month|DayofMonth|weather|\n",
      "+----+-----+----------+-------+\n",
      "|2007|    1|         1|     56|\n",
      "|2007|    1|         2|     21|\n",
      "|2007|    1|         3|     23|\n",
      "|2007|    1|         4|    207|\n",
      "|2007|    1|         5|    212|\n",
      "|2007|    1|         6|     50|\n",
      "|2007|    1|         7|     58|\n",
      "|2007|    1|         8|     65|\n",
      "|2007|    1|         9|     10|\n",
      "|2007|    1|        10|     18|\n",
      "|2007|    1|        11|     51|\n",
      "|2007|    1|        12|    534|\n",
      "|2007|    1|        13|   1142|\n",
      "|2007|    1|        14|   1603|\n",
      "|2007|    1|        15|    688|\n",
      "|2007|    1|        16|    580|\n",
      "|2007|    1|        17|    975|\n",
      "|2007|    1|        18|    344|\n",
      "|2007|    1|        19|    114|\n",
      "|2007|    1|        20|    257|\n",
      "+----+-----+----------+-------+\n",
      "only showing top 20 rows\n",
      "\n",
      "+----+-----+----------+-------+\n",
      "|Year|Month|DayofMonth|weather|\n",
      "+----+-----+----------+-------+\n",
      "|2008|    1|         1|    207|\n",
      "|2008|    1|         2|     58|\n",
      "|2008|    1|         3|     15|\n",
      "|2008|    1|         4|    289|\n",
      "|2008|    1|         5|    178|\n",
      "|2008|    1|         6|    350|\n",
      "|2008|    1|         7|    236|\n",
      "|2008|    1|         8|    103|\n",
      "|2008|    1|         9|     71|\n",
      "|2008|    1|        10|     56|\n",
      "|2008|    1|        11|    171|\n",
      "|2008|    1|        12|     72|\n",
      "|2008|    1|        13|    214|\n",
      "|2008|    1|        14|    648|\n",
      "|2008|    1|        15|    121|\n",
      "|2008|    1|        16|    343|\n",
      "|2008|    1|        17|    422|\n",
      "|2008|    1|        18|     33|\n",
      "|2008|    1|        19|    742|\n",
      "|2008|    1|        20|     46|\n",
      "+----+-----+----------+-------+\n",
      "only showing top 20 rows\n",
      "\n"
     ]
    }
   ],
   "source": [
    "newYearFirstWeek = None\n",
    "res=[]\n",
    "for i in range(1994, 2009):\n",
    "    result, newYearFirstWeek = getWeatherPercentage(str(i), newYearFirstWeek)\n",
    "    res.append(result)\n"
   ]
  },
  {
   "cell_type": "code",
   "execution_count": 44,
   "metadata": {
    "scrolled": true
   },
   "outputs": [],
   "source": [
    "res1=res[0]\n",
    "for el in res[1:]:\n",
    "    res1=res1.union(el)\n",
    "    \n",
    "res1.coalesce(1).write.csv(\"./query2.csv\",header=True)"
   ]
  },
  {
   "cell_type": "markdown",
   "metadata": {},
   "source": [
    "## 2. Weekly percentages of delays that are due to weather, throughout the entire data set "
   ]
  },
  {
   "cell_type": "code",
   "execution_count": 5,
   "metadata": {},
   "outputs": [
    {
     "name": "stdout",
     "output_type": "stream",
     "text": [
      "+----+----+--------------------+\n",
      "|Year|Week|          percentage|\n",
      "+----+----+--------------------+\n",
      "|2003|  22|0.021759379291139726|\n",
      "|2003|  23| 0.05435799236788522|\n",
      "|2003|  24| 0.08422798224375042|\n",
      "|2003|  25|0.055541387509821634|\n",
      "|2003|  26|0.026577881593444493|\n",
      "|2003|  27| 0.06815821400768812|\n",
      "|2003|  28| 0.06584921521083144|\n",
      "|2003|  29| 0.03957742490221589|\n",
      "|2003|  30| 0.07160054816598709|\n",
      "|2003|  31| 0.07311418046852729|\n",
      "|2003|  32| 0.05751709725001834|\n",
      "|2003|  33|0.056138471877398725|\n",
      "|2003|  34|0.060240938882279056|\n",
      "|2003|  35| 0.08129548078477976|\n",
      "|2003|  36| 0.03531433928850461|\n",
      "|2003|  37| 0.05845302266562089|\n",
      "|2003|  38|0.036452499395229015|\n",
      "|2003|  39|   0.036826458565589|\n",
      "|2003|  40|0.023060051550517907|\n",
      "|2003|  41| 0.04255098964109221|\n",
      "+----+----+--------------------+\n",
      "only showing top 20 rows\n",
      "\n"
     ]
    }
   ],
   "source": [
    "def getWeatherDelayPercentage(start, end):\n",
    "    d = sqlContext.read.format('com.databricks.spark.csv').options(header='true', inferschema='true')\\\n",
    "        .load('BDdata/'+str(start)+'.csv')\n",
    "    for i in range(start+1,end+1):\n",
    "        d = d.union(sqlContext.read.format('com.databricks.spark.csv').options(header='true', inferschema='true')\\\n",
    "                .load('BDdata/'+str(i)+'.csv'))\n",
    "    d1 = d.where(\"ArrDelay >= 0\").select(d[\"Year\"],d[\"Month\"],d[\"DayofMonth\"],d[\"ArrDelay\"],d[\"WeatherDelay\"])\n",
    "    # needed check on presence of \"NA\" because otherwise an empty table is returned if filtered when no \"NA\" is present\n",
    "    if d1.where(\"WeatherDelay == 'NA'\").count() > 0:\n",
    "        d1 = d1.where(\"WeatherDelay != 'NA'\")\n",
    "\n",
    "    d3 = d1.groupBy(d[\"Year\"],d[\"Month\"],d[\"DayofMonth\"]).agg({\"ArrDelay\":\"sum\",\"WeatherDelay\":\"sum\"})\n",
    "    \n",
    "    week = udf(lambda *x : datetime(x[0],x[1],x[2]).isocalendar()[1], IntegerType())\n",
    "    year = udf(lambda *x : datetime(x[0],x[1],x[2]).isocalendar()[0], IntegerType())\n",
    "\n",
    "    d4 = d3.withColumn(\"Week\", week(d3[\"Year\"],d3[\"Month\"],d3[\"DayofMonth\"]))\\\n",
    "        .withColumn(\"Year\",year(d3[\"Year\"],d3[\"Month\"],d3[\"DayofMonth\"])).drop(d3[\"Year\"])\n",
    "\n",
    "    d5 = d4.groupBy(\"Year\",\"Week\")\\\n",
    "            .agg({\"sum(WeatherDelay)\":\"sum\",\"sum(ArrDelay)\":\"sum\"})\n",
    "    d6 = d5.withColumn(\"percentage\",d5[\"sum(sum(WeatherDelay))\"]/d5[\"sum(sum(ArrDelay))\"])\\\n",
    "            .drop(\"sum(sum(WeatherDelay))\",\"sum(sum(ArrDelay))\")\\\n",
    "            .sort(\"Year\",\"Week\")\n",
    "    \n",
    "    return d6\n",
    "            \n",
    "d7 = getWeatherDelayPercentage(1994,2008)\n",
    "d7.show()"
   ]
  },
  {
   "cell_type": "code",
   "execution_count": 6,
   "metadata": {},
   "outputs": [],
   "source": [
    "d7.coalesce(1).write.csv(\"./query3.csv\",header=True)"
   ]
  },
  {
   "cell_type": "code",
   "execution_count": 12,
   "metadata": {},
   "outputs": [
    {
     "data": {
      "image/png": "[encoded data removed]",
      "text/plain": [
       "<matplotlib.figure.Figure at 0x7fc30713c198>"
      ]
     },
     "metadata": {},
     "output_type": "display_data"
    }
   ],
   "source": [
    "ax = sns.barplot(x=\"week\", y=\"percentage\", data=d7.toPandas())"
   ]
  },
  {
   "cell_type": "markdown",
   "metadata": {},
   "source": [
    "## 3. The percentage of flights belonging to a given \"distance group\" that were able to halve their departure delays by the time they arrived at their destinations. \n",
    "\n",
    "Distance groups assort flights by their total distance in miles. Flights with distances that are less than 200 miles belong in group 1, flights with distances that are between 200 and 399 miles belong in group 2, flights with distances that are between 400 and 599 miles belong in group 3, and so on. The last group contains flights whose distances are between 2400 and 2599 miles."
   ]
  },
  {
   "cell_type": "code",
   "execution_count": 3,
   "metadata": {},
   "outputs": [],
   "source": [
    "\n",
    "def getPercentageFastDistanceGroup(init,end):\n",
    "    d = sqlContext.read.format('com.databricks.spark.csv').options(header='true', inferschema='true')\\\n",
    "        .load('BDdata/'+str(init)+'.csv')\n",
    "    for i in range(init+1,end+1):\n",
    "        d = d.union(sqlContext.read.format('com.databricks.spark.csv').options(header='true', inferschema='true')\\\n",
    "            .load('BDdata/'+str(i)+'.csv'))\n",
    "\n",
    "    d1 = d.where(d[\"Cancelled\"]==0)\\\n",
    "        .where(d[\"DepDelay\"] != \"NA\")\\\n",
    "        .where(d[\"ArrDelay\"] != \"NA\")\\\n",
    "        .where(d[\"Distance\"] != \"NA\")\\\n",
    "        .select(d[\"DepDelay\"],d[\"ArrDelay\"],d[\"Distance\"])\n",
    "    \n",
    "    distanceGroup = udf(lambda x : int(x)//200+1,IntegerType())\n",
    "    d2 = d1.withColumn(\"DistanceGroup\",distanceGroup(d1[\"Distance\"]))\\\n",
    "        .drop(d1[\"Distance\"])\n",
    "    \n",
    "    d3 = d2.filter(d2[\"DepDelay\"]>=2*d2[\"ArrDelay\"])\\\n",
    "        .groupBy(d2.DistanceGroup).agg({\"*\":\"count\"})\n",
    "\n",
    "    d4 = d2.groupBy(d2.DistanceGroup).agg({\"*\":\"count\"})\n",
    "    \n",
    "    d5 = d4.join(d3,on=[d3.DistanceGroup==d4.DistanceGroup])\\\n",
    "        .withColumn(\"percentage\", d3[\"count(1)\"]/d4[\"count(1)\"])\\\n",
    "        .drop(\"count(1)\")\\\n",
    "        .select(d4.DistanceGroup,\"percentage\").sort(\"DistanceGroup\")\n",
    "    return d5\n",
    "\n",
    "res4 = getPercentageFastDistanceGroup(1994,2008)\n",
    "res4.coalesce(1).write.csv(\"./query4.csv\",header=True)"
   ]
  },
  {
   "cell_type": "code",
   "execution_count": 12,
   "metadata": {},
   "outputs": [
    {
     "name": "stdout",
     "output_type": "stream",
     "text": [
      "+--------+\n",
      "|Distance|\n",
      "+--------+\n",
      "|      NA|\n",
      "|      NA|\n",
      "|      NA|\n",
      "|      NA|\n",
      "|      NA|\n",
      "|      NA|\n",
      "|      NA|\n",
      "|      NA|\n",
      "|      NA|\n",
      "|      NA|\n",
      "|      NA|\n",
      "|      NA|\n",
      "|      NA|\n",
      "|      NA|\n",
      "|      NA|\n",
      "|      NA|\n",
      "|      NA|\n",
      "|      NA|\n",
      "|      NA|\n",
      "|      NA|\n",
      "+--------+\n",
      "only showing top 20 rows\n",
      "\n"
     ]
    }
   ],
   "source": [
    "d = sqlContext.read.format('com.databricks.spark.csv').options(header='true', inferschema='true')\\\n",
    "        .load('BDdata/1994.csv')\n",
    "for i in range(1994+1,2008+1):\n",
    "    d = d.union(sqlContext.read.format('com.databricks.spark.csv').options(header='true', inferschema='true')\\\n",
    "        .load('BDdata/'+str(i)+'.csv'))\n",
    "d.select(d[\"Distance\"]).orderBy(\"Distance\",ascending=False).show()"
   ]
  },
  {
   "cell_type": "code",
   "execution_count": 15,
   "metadata": {},
   "outputs": [
    {
     "name": "stdout",
     "output_type": "stream",
     "text": [
      "+--------+\n",
      "|Distance|\n",
      "+--------+\n",
      "|    4962|\n",
      "|    4962|\n",
      "|    4962|\n",
      "|    4962|\n",
      "|    4962|\n",
      "|    4962|\n",
      "|    4962|\n",
      "|    4962|\n",
      "|    4962|\n",
      "|    4962|\n",
      "|    4962|\n",
      "|    4962|\n",
      "|    4962|\n",
      "|    4962|\n",
      "|    4962|\n",
      "|    4962|\n",
      "|    4962|\n",
      "|    4962|\n",
      "|    4962|\n",
      "|    4962|\n",
      "+--------+\n",
      "only showing top 20 rows\n",
      "\n"
     ]
    }
   ],
   "source": [
    "d.where(d[\"Distance\"]==4962).select(d[\"Distance\"]).orderBy(\"Distance\",ascending=False).show()"
   ]
  },
  {
   "cell_type": "code",
   "execution_count": 17,
   "metadata": {},
   "outputs": [
    {
     "name": "stdout",
     "output_type": "stream",
     "text": [
      "+--------+\n",
      "|Distance|\n",
      "+--------+\n",
      "|     999|\n",
      "|     999|\n",
      "|     999|\n",
      "|     999|\n",
      "|     999|\n",
      "|     999|\n",
      "|     999|\n",
      "|     999|\n",
      "|     999|\n",
      "|     999|\n",
      "|     999|\n",
      "|     999|\n",
      "|     999|\n",
      "|     999|\n",
      "|     999|\n",
      "|     999|\n",
      "|     999|\n",
      "|     999|\n",
      "|     999|\n",
      "|     999|\n",
      "+--------+\n",
      "only showing top 20 rows\n",
      "\n"
     ]
    }
   ],
   "source": [
    "d.where(d[\"Distance\"]!=\"NA\").select(d[\"Distance\"]).orderBy(\"Distance\",ascending=False).show()"
   ]
  },
  {
   "cell_type": "code",
   "execution_count": 18,
   "metadata": {},
   "outputs": [
    {
     "name": "stdout",
     "output_type": "stream",
     "text": [
      "+--------+\n",
      "|Distance|\n",
      "+--------+\n",
      "|      NA|\n",
      "|      NA|\n",
      "|      NA|\n",
      "|      NA|\n",
      "|      NA|\n",
      "|      NA|\n",
      "|      NA|\n",
      "|      NA|\n",
      "|      NA|\n",
      "|      NA|\n",
      "|      NA|\n",
      "|      NA|\n",
      "|      NA|\n",
      "|      NA|\n",
      "|      NA|\n",
      "|      NA|\n",
      "|      NA|\n",
      "|      NA|\n",
      "|      NA|\n",
      "|      NA|\n",
      "+--------+\n",
      "only showing top 20 rows\n",
      "\n"
     ]
    }
   ],
   "source": [
    "d.select(d[\"Distance\"]).orderBy(\"Distance\",ascending=False).show()"
   ]
  },
  {
   "cell_type": "code",
   "execution_count": 7,
   "metadata": {},
   "outputs": [
    {
     "name": "stdout",
     "output_type": "stream",
     "text": [
      "+--------+\n",
      "|Distance|\n",
      "+--------+\n",
      "|     999|\n",
      "|     999|\n",
      "|     999|\n",
      "|     999|\n",
      "|     999|\n",
      "|     999|\n",
      "|     999|\n",
      "|     999|\n",
      "|     999|\n",
      "|     999|\n",
      "|     999|\n",
      "|     999|\n",
      "|     999|\n",
      "|     999|\n",
      "|     999|\n",
      "|     999|\n",
      "|     999|\n",
      "|     999|\n",
      "|     999|\n",
      "|     999|\n",
      "+--------+\n",
      "only showing top 20 rows\n",
      "\n",
      "+--------+\n",
      "|Distance|\n",
      "+--------+\n",
      "|     999|\n",
      "|     999|\n",
      "|     999|\n",
      "|     999|\n",
      "|     999|\n",
      "|     999|\n",
      "|     999|\n",
      "|     999|\n",
      "|     999|\n",
      "|     999|\n",
      "|     999|\n",
      "|     999|\n",
      "|     999|\n",
      "|     999|\n",
      "|     999|\n",
      "|     999|\n",
      "|     999|\n",
      "|     999|\n",
      "|     999|\n",
      "|     999|\n",
      "+--------+\n",
      "only showing top 20 rows\n",
      "\n",
      "+--------+\n",
      "|Distance|\n",
      "+--------+\n",
      "+--------+\n",
      "\n",
      "+--------+\n",
      "|Distance|\n",
      "+--------+\n",
      "+--------+\n",
      "\n"
     ]
    },
    {
     "ename": "KeyboardInterrupt",
     "evalue": "",
     "output_type": "error",
     "traceback": [
      "\u001b[0;31m\u001b[0m",
      "\u001b[0;31mKeyboardInterrupt\u001b[0mTraceback (most recent call last)",
      "\u001b[0;32m<ipython-input-7-b8ea6f1327e6>\u001b[0m in \u001b[0;36m<module>\u001b[0;34m()\u001b[0m\n\u001b[1;32m      1\u001b[0m \u001b[0;32mfor\u001b[0m \u001b[0mi\u001b[0m \u001b[0;32min\u001b[0m \u001b[0mrange\u001b[0m\u001b[0;34m(\u001b[0m\u001b[0;36m1994\u001b[0m\u001b[0;34m,\u001b[0m\u001b[0;36m2009\u001b[0m\u001b[0;34m)\u001b[0m\u001b[0;34m:\u001b[0m\u001b[0;34m\u001b[0m\u001b[0m\n\u001b[0;32m----> 2\u001b[0;31m     \u001b[0md\u001b[0m \u001b[0;34m=\u001b[0m \u001b[0msqlContext\u001b[0m\u001b[0;34m.\u001b[0m\u001b[0mread\u001b[0m\u001b[0;34m.\u001b[0m\u001b[0mformat\u001b[0m\u001b[0;34m(\u001b[0m\u001b[0;34m'com.databricks.spark.csv'\u001b[0m\u001b[0;34m)\u001b[0m\u001b[0;34m.\u001b[0m\u001b[0moptions\u001b[0m\u001b[0;34m(\u001b[0m\u001b[0mheader\u001b[0m\u001b[0;34m=\u001b[0m\u001b[0;34m'true'\u001b[0m\u001b[0;34m,\u001b[0m \u001b[0minferschema\u001b[0m\u001b[0;34m=\u001b[0m\u001b[0;34m'true'\u001b[0m\u001b[0;34m)\u001b[0m        \u001b[0;34m.\u001b[0m\u001b[0mload\u001b[0m\u001b[0;34m(\u001b[0m\u001b[0;34m'BDdata/'\u001b[0m\u001b[0;34m+\u001b[0m\u001b[0mstr\u001b[0m\u001b[0;34m(\u001b[0m\u001b[0mi\u001b[0m\u001b[0;34m)\u001b[0m\u001b[0;34m+\u001b[0m\u001b[0;34m'.csv'\u001b[0m\u001b[0;34m)\u001b[0m\u001b[0;34m\u001b[0m\u001b[0m\n\u001b[0m\u001b[1;32m      3\u001b[0m     \u001b[0md\u001b[0m\u001b[0;34m.\u001b[0m\u001b[0mwhere\u001b[0m\u001b[0;34m(\u001b[0m\u001b[0md\u001b[0m\u001b[0;34m[\u001b[0m\u001b[0;34m\"Distance\"\u001b[0m\u001b[0;34m]\u001b[0m \u001b[0;34m!=\u001b[0m \u001b[0;34m\"NA\"\u001b[0m\u001b[0;34m)\u001b[0m\u001b[0;34m.\u001b[0m\u001b[0mselect\u001b[0m\u001b[0;34m(\u001b[0m\u001b[0;34m\"Distance\"\u001b[0m\u001b[0;34m)\u001b[0m\u001b[0;34m.\u001b[0m\u001b[0morderBy\u001b[0m\u001b[0;34m(\u001b[0m\u001b[0;34m\"Distance\"\u001b[0m\u001b[0;34m,\u001b[0m\u001b[0mascending\u001b[0m\u001b[0;34m=\u001b[0m\u001b[0;32mFalse\u001b[0m\u001b[0;34m)\u001b[0m\u001b[0;34m.\u001b[0m\u001b[0mshow\u001b[0m\u001b[0;34m(\u001b[0m\u001b[0;34m)\u001b[0m\u001b[0;34m\u001b[0m\u001b[0m\n",
      "\u001b[0;32m/usr/local/spark/python/pyspark/sql/readwriter.py\u001b[0m in \u001b[0;36mload\u001b[0;34m(self, path, format, schema, **options)\u001b[0m\n\u001b[1;32m    164\u001b[0m         \u001b[0mself\u001b[0m\u001b[0;34m.\u001b[0m\u001b[0moptions\u001b[0m\u001b[0;34m(\u001b[0m\u001b[0;34m**\u001b[0m\u001b[0moptions\u001b[0m\u001b[0;34m)\u001b[0m\u001b[0;34m\u001b[0m\u001b[0m\n\u001b[1;32m    165\u001b[0m         \u001b[0;32mif\u001b[0m \u001b[0misinstance\u001b[0m\u001b[0;34m(\u001b[0m\u001b[0mpath\u001b[0m\u001b[0;34m,\u001b[0m \u001b[0mbasestring\u001b[0m\u001b[0;34m)\u001b[0m\u001b[0;34m:\u001b[0m\u001b[0;34m\u001b[0m\u001b[0m\n\u001b[0;32m--> 166\u001b[0;31m             \u001b[0;32mreturn\u001b[0m \u001b[0mself\u001b[0m\u001b[0;34m.\u001b[0m\u001b[0m_df\u001b[0m\u001b[0;34m(\u001b[0m\u001b[0mself\u001b[0m\u001b[0;34m.\u001b[0m\u001b[0m_jreader\u001b[0m\u001b[0;34m.\u001b[0m\u001b[0mload\u001b[0m\u001b[0;34m(\u001b[0m\u001b[0mpath\u001b[0m\u001b[0;34m)\u001b[0m\u001b[0;34m)\u001b[0m\u001b[0;34m\u001b[0m\u001b[0m\n\u001b[0m\u001b[1;32m    167\u001b[0m         \u001b[0;32melif\u001b[0m \u001b[0mpath\u001b[0m \u001b[0;32mis\u001b[0m \u001b[0;32mnot\u001b[0m \u001b[0;32mNone\u001b[0m\u001b[0;34m:\u001b[0m\u001b[0;34m\u001b[0m\u001b[0m\n\u001b[1;32m    168\u001b[0m             \u001b[0;32mif\u001b[0m \u001b[0mtype\u001b[0m\u001b[0;34m(\u001b[0m\u001b[0mpath\u001b[0m\u001b[0;34m)\u001b[0m \u001b[0;34m!=\u001b[0m \u001b[0mlist\u001b[0m\u001b[0;34m:\u001b[0m\u001b[0;34m\u001b[0m\u001b[0m\n",
      "\u001b[0;32m/usr/local/spark/python/lib/py4j-0.10.6-src.zip/py4j/java_gateway.py\u001b[0m in \u001b[0;36m__call__\u001b[0;34m(self, *args)\u001b[0m\n\u001b[1;32m   1156\u001b[0m             \u001b[0mproto\u001b[0m\u001b[0;34m.\u001b[0m\u001b[0mEND_COMMAND_PART\u001b[0m\u001b[0;34m\u001b[0m\u001b[0m\n\u001b[1;32m   1157\u001b[0m \u001b[0;34m\u001b[0m\u001b[0m\n\u001b[0;32m-> 1158\u001b[0;31m         \u001b[0manswer\u001b[0m \u001b[0;34m=\u001b[0m \u001b[0mself\u001b[0m\u001b[0;34m.\u001b[0m\u001b[0mgateway_client\u001b[0m\u001b[0;34m.\u001b[0m\u001b[0msend_command\u001b[0m\u001b[0;34m(\u001b[0m\u001b[0mcommand\u001b[0m\u001b[0;34m)\u001b[0m\u001b[0;34m\u001b[0m\u001b[0m\n\u001b[0m\u001b[1;32m   1159\u001b[0m         return_value = get_return_value(\n\u001b[1;32m   1160\u001b[0m             answer, self.gateway_client, self.target_id, self.name)\n",
      "\u001b[0;32m/usr/local/spark/python/lib/py4j-0.10.6-src.zip/py4j/java_gateway.py\u001b[0m in \u001b[0;36msend_command\u001b[0;34m(self, command, retry, binary)\u001b[0m\n\u001b[1;32m    906\u001b[0m         \u001b[0mconnection\u001b[0m \u001b[0;34m=\u001b[0m \u001b[0mself\u001b[0m\u001b[0;34m.\u001b[0m\u001b[0m_get_connection\u001b[0m\u001b[0;34m(\u001b[0m\u001b[0;34m)\u001b[0m\u001b[0;34m\u001b[0m\u001b[0m\n\u001b[1;32m    907\u001b[0m         \u001b[0;32mtry\u001b[0m\u001b[0;34m:\u001b[0m\u001b[0;34m\u001b[0m\u001b[0m\n\u001b[0;32m--> 908\u001b[0;31m             \u001b[0mresponse\u001b[0m \u001b[0;34m=\u001b[0m \u001b[0mconnection\u001b[0m\u001b[0;34m.\u001b[0m\u001b[0msend_command\u001b[0m\u001b[0;34m(\u001b[0m\u001b[0mcommand\u001b[0m\u001b[0;34m)\u001b[0m\u001b[0;34m\u001b[0m\u001b[0m\n\u001b[0m\u001b[1;32m    909\u001b[0m             \u001b[0;32mif\u001b[0m \u001b[0mbinary\u001b[0m\u001b[0;34m:\u001b[0m\u001b[0;34m\u001b[0m\u001b[0m\n\u001b[1;32m    910\u001b[0m                 \u001b[0;32mreturn\u001b[0m \u001b[0mresponse\u001b[0m\u001b[0;34m,\u001b[0m \u001b[0mself\u001b[0m\u001b[0;34m.\u001b[0m\u001b[0m_create_connection_guard\u001b[0m\u001b[0;34m(\u001b[0m\u001b[0mconnection\u001b[0m\u001b[0;34m)\u001b[0m\u001b[0;34m\u001b[0m\u001b[0m\n",
      "\u001b[0;32m/usr/local/spark/python/lib/py4j-0.10.6-src.zip/py4j/java_gateway.py\u001b[0m in \u001b[0;36msend_command\u001b[0;34m(self, command)\u001b[0m\n\u001b[1;32m   1053\u001b[0m \u001b[0;34m\u001b[0m\u001b[0m\n\u001b[1;32m   1054\u001b[0m         \u001b[0;32mtry\u001b[0m\u001b[0;34m:\u001b[0m\u001b[0;34m\u001b[0m\u001b[0m\n\u001b[0;32m-> 1055\u001b[0;31m             \u001b[0manswer\u001b[0m \u001b[0;34m=\u001b[0m \u001b[0msmart_decode\u001b[0m\u001b[0;34m(\u001b[0m\u001b[0mself\u001b[0m\u001b[0;34m.\u001b[0m\u001b[0mstream\u001b[0m\u001b[0;34m.\u001b[0m\u001b[0mreadline\u001b[0m\u001b[0;34m(\u001b[0m\u001b[0;34m)\u001b[0m\u001b[0;34m[\u001b[0m\u001b[0;34m:\u001b[0m\u001b[0;34m-\u001b[0m\u001b[0;36m1\u001b[0m\u001b[0;34m]\u001b[0m\u001b[0;34m)\u001b[0m\u001b[0;34m\u001b[0m\u001b[0m\n\u001b[0m\u001b[1;32m   1056\u001b[0m             \u001b[0mlogger\u001b[0m\u001b[0;34m.\u001b[0m\u001b[0mdebug\u001b[0m\u001b[0;34m(\u001b[0m\u001b[0;34m\"Answer received: {0}\"\u001b[0m\u001b[0;34m.\u001b[0m\u001b[0mformat\u001b[0m\u001b[0;34m(\u001b[0m\u001b[0manswer\u001b[0m\u001b[0;34m)\u001b[0m\u001b[0;34m)\u001b[0m\u001b[0;34m\u001b[0m\u001b[0m\n\u001b[1;32m   1057\u001b[0m             \u001b[0;32mif\u001b[0m \u001b[0manswer\u001b[0m\u001b[0;34m.\u001b[0m\u001b[0mstartswith\u001b[0m\u001b[0;34m(\u001b[0m\u001b[0mproto\u001b[0m\u001b[0;34m.\u001b[0m\u001b[0mRETURN_MESSAGE\u001b[0m\u001b[0;34m)\u001b[0m\u001b[0;34m:\u001b[0m\u001b[0;34m\u001b[0m\u001b[0m\n",
      "\u001b[0;32m/opt/conda/lib/python3.6/socket.py\u001b[0m in \u001b[0;36mreadinto\u001b[0;34m(self, b)\u001b[0m\n\u001b[1;32m    584\u001b[0m         \u001b[0;32mwhile\u001b[0m \u001b[0;32mTrue\u001b[0m\u001b[0;34m:\u001b[0m\u001b[0;34m\u001b[0m\u001b[0m\n\u001b[1;32m    585\u001b[0m             \u001b[0;32mtry\u001b[0m\u001b[0;34m:\u001b[0m\u001b[0;34m\u001b[0m\u001b[0m\n\u001b[0;32m--> 586\u001b[0;31m                 \u001b[0;32mreturn\u001b[0m \u001b[0mself\u001b[0m\u001b[0;34m.\u001b[0m\u001b[0m_sock\u001b[0m\u001b[0;34m.\u001b[0m\u001b[0mrecv_into\u001b[0m\u001b[0;34m(\u001b[0m\u001b[0mb\u001b[0m\u001b[0;34m)\u001b[0m\u001b[0;34m\u001b[0m\u001b[0m\n\u001b[0m\u001b[1;32m    587\u001b[0m             \u001b[0;32mexcept\u001b[0m \u001b[0mtimeout\u001b[0m\u001b[0;34m:\u001b[0m\u001b[0;34m\u001b[0m\u001b[0m\n\u001b[1;32m    588\u001b[0m                 \u001b[0mself\u001b[0m\u001b[0;34m.\u001b[0m\u001b[0m_timeout_occurred\u001b[0m \u001b[0;34m=\u001b[0m \u001b[0;32mTrue\u001b[0m\u001b[0;34m\u001b[0m\u001b[0m\n",
      "\u001b[0;31mKeyboardInterrupt\u001b[0m: "
     ]
    }
   ],
   "source": [
    "for i in range(1994,2009):\n",
    "    d = sqlContext.read.format('com.databricks.spark.csv').options(header='true', inferschema='true')\\\n",
    "        .load('BDdata/'+str(i)+'.csv')\n",
    "    d.where(d[\"Distance\"] != \"NA\").select(\"Distance\").orderBy(\"Distance\",ascending=False).show()"
   ]
  },
  {
   "cell_type": "code",
   "execution_count": 15,
   "metadata": {},
   "outputs": [
    {
     "name": "stdout",
     "output_type": "stream",
     "text": [
      "+-------------+\n",
      "|max(Distance)|\n",
      "+-------------+\n",
      "|         null|\n",
      "+-------------+\n",
      "\n"
     ]
    }
   ],
   "source": [
    "d.where(d[\"Distance\"] != \"NA\").where(d[\"Distance\"]!=\"null\")."
   ]
  },
  {
   "cell_type": "code",
   "execution_count": 8,
   "metadata": {},
   "outputs": [
    {
     "name": "stdout",
     "output_type": "stream",
     "text": [
      "+-------+-----------------+\n",
      "|summary|         Distance|\n",
      "+-------+-----------------+\n",
      "|  count|         91440435|\n",
      "|   mean|724.8224214812626|\n",
      "| stddev|560.9680911088635|\n",
      "|    min|              100|\n",
      "|    max|              999|\n",
      "+-------+-----------------+\n",
      "\n"
     ]
    }
   ],
   "source": [
    "d.where(d[\"Distance\"] != \"NA\").describe([\"Distance\"]).show()"
   ]
  },
  {
   "cell_type": "code",
   "execution_count": 11,
   "metadata": {},
   "outputs": [
    {
     "name": "stdout",
     "output_type": "stream",
     "text": [
      "+-------------+\n",
      "|max(Distance)|\n",
      "+-------------+\n",
      "|          999|\n",
      "+-------------+\n",
      "\n"
     ]
    }
   ],
   "source": [
    "d.where(d[\"Distance\"] != \"NA\").select(\"Distance\").agg({\"Distance\":\"max\"}).show()"
   ]
  },
  {
   "cell_type": "markdown",
   "metadata": {},
   "source": [
    "## 4. A weekly \"penalty\" score for each airport that depends on both the its incoming and outgoing flights. \n",
    "The score adds 0.5 for each incoming flight that is more than 15 minutes late, and 1 for each outgoing flight that is more than 15 minutes late."
   ]
  },
  {
   "cell_type": "code",
   "execution_count": 11,
   "metadata": {},
   "outputs": [],
   "source": [
    "\n",
    "week = udf(lambda *x : datetime(x[0],x[1],x[2]).isocalendar()[1], IntegerType())\n",
    "year = udf(lambda *x : datetime(x[0],x[1],x[2]).isocalendar()[0], IntegerType())\n",
    "penalty = lambda y : udf(lambda x: y if int(x) > 15 else 0.0, FloatType())\n"
   ]
  },
  {
   "cell_type": "code",
   "execution_count": null,
   "metadata": {},
   "outputs": [],
   "source": [
    "\n",
    "def getAirportPenalty(start, end):\n",
    "    \n",
    "    d = sqlContext.read.format('com.databricks.spark.csv').options(header='true', inferschema='true')\\\n",
    "        .load('BDdata/'+str(start)+'.csv')\n",
    "    for i in range(start+1,end+1):\n",
    "        d = d.union(sqlContext.read.format('com.databricks.spark.csv').options(header='true', inferschema='true')\\\n",
    "                .load('BDdata/'+str(i)+'.csv'))\n",
    "    d1 = d.withColumn(\"Week\", week(d[\"Year\"],d[\"Month\"],d[\"DayofMonth\"]))\\\n",
    "        .withColumn(\"Year\", year(d[\"Year\"],d[\"Month\"],d[\"DayofMonth\"])).drop(d[\"Year\"])\n",
    "    d1  = d1.filter((d1['DepDelay']!= \"NA\") & (d1['ArrDelay'] != \"NA\") & ((d1['ArrDelay'] > 15) | (d1['DepDelay'] > 15)))\n",
    "    d2 = d1.withColumn(\"in\", penalty(0.5)(d1['ArrDelay']))\\\n",
    "        .withColumn(\"out\", penalty(1.0)(d1['DepDelay']))\\\n",
    "        .select(d1[\"Year\"],d1[\"Week\"],d1[\"Origin\"],d1[\"Dest\"],\"in\",\"out\")\n",
    "    d3 = d2.groupBy(d2[\"Year\"],d2[\"Origin\"],d2[\"Week\"])\\\n",
    "        .agg({\"out\":\"sum\"})\n",
    "    d3a = d2.groupBy(d2[\"Year\"],d2[\"Dest\"],d2[\"Week\"]).agg({\"in\":\"sum\"})\n",
    "    d3b = d3a.join(d3, on=[d3a[\"Dest\"]==d3[\"Origin\"],d3a[\"Year\"]==d3[\"Year\"],d3a[\"Week\"]==d3[\"Week\"]])\\\n",
    "            .select(d3[\"Year\"],d3[\"Week\"],d3[\"sum(out)\"],d3a[\"sum(in)\"],d3[\"Origin\"])\n",
    "    \n",
    "    d4 = d3b.withColumn(\"Penalty\", d3b[\"sum(out)\"]+d3b[\"sum(in)\"])\\\n",
    "        .drop(\"Dest\")\\\n",
    "        .withColumnRenamed(\"Origin\",\"Airport\")\\\n",
    "        .withColumnRenamed(\"sum(out)\",\"OutgoingPenalty\")\\\n",
    "        .withColumnRenamed(\"sum(in)\",\"IngoingPenalty\")\\\n",
    "        .sort(\"Penalty\")\n",
    "    return d4\n",
    "\n",
    "res5 = getAirportPenalty(1994,2008)\n",
    "res5.coalesce(1).write.csv(\"./query5.csv\",header=True)"
   ]
  },
  {
   "cell_type": "code",
   "execution_count": 16,
   "metadata": {},
   "outputs": [],
   "source": [
    "res5.coalesce(1).write.csv(\"./query5.csv\",header=True)"
   ]
  }
 ],
 "metadata": {
  "kernelspec": {
   "display_name": "Python 3",
   "language": "python",
   "name": "python3"
  },
  "language_info": {
   "codemirror_mode": {
    "name": "ipython",
    "version": 3
   },
   "file_extension": ".py",
   "mimetype": "text/x-python",
   "name": "python",
   "nbconvert_exporter": "python",
   "pygments_lexer": "ipython3",
   "version": "3.6.3"
  }
 },
 "nbformat": 4,
 "nbformat_minor": 2
}
